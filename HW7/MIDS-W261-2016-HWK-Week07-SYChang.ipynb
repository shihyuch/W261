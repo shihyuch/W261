{
 "cells": [
  {
   "cell_type": "markdown",
   "metadata": {},
   "source": [
    "# DATASCI W261, Machine Learning at Scale\n",
    "--------\n",
    "#### Assignement:  week \\#7\n",
    "#### Shih Yu Chang\n",
    "### Due: 2016-10-25, 8AM PST"
   ]
  },
  {
   "cell_type": "code",
   "execution_count": 282,
   "metadata": {
    "collapsed": true
   },
   "outputs": [],
   "source": [
    "import numpy as np\n",
    "from __future__ import division\n",
    "import os\n",
    "%matplotlib inline\n",
    "import matplotlib\n",
    "matplotlib.style.use('ggplot')\n",
    "\n",
    "%reload_ext autoreload\n",
    "%autoreload 2"
   ]
  },
  {
   "cell_type": "markdown",
   "metadata": {},
   "source": [
    "# HW 7.0: Shortest path graph distances (toy networks)\n",
    "\n",
    "In this part of your assignment you will develop the base of your code for the week.\n",
    "\n",
    "Write MRJob classes to find shortest path graph distances, as described in the lectures. In addition to finding the distances, your code should also output a distance-minimizing path between the source and target. Work locally for this part of the assignment, and use both of the undirected and directed toy networks.\n",
    "\n",
    "![Toy networks](toy_graphs.png)\n",
    "\n",
    "To proof you code's function, run the following jobs\n",
    "\n",
    "- shortest path in the undirected network from node 1 to node 4\n",
    "Solution: 1,5,4\n",
    "\n",
    "- shortest path in the directed network from node 1 to node 5\n",
    "Solution: 1,2,4,5\n",
    "\n",
    "and report your output -- make sure it is correct!"
   ]
  },
  {
   "cell_type": "code",
   "execution_count": 283,
   "metadata": {
    "collapsed": false
   },
   "outputs": [
    {
     "name": "stdout",
     "output_type": "stream",
     "text": [
      "Overwriting MRJob_Initiate.py\n"
     ]
    }
   ],
   "source": [
    "%%writefile MRJob_Initiate.py\n",
    "from mrjob.job import MRJob\n",
    "from mrjob.step import MRStep\n",
    "import sys\n",
    "\n",
    "class initiate(MRJob):\n",
    "\n",
    "    # Specify initial node conditions\n",
    "    def configure_options(self):\n",
    "        super(initiate, self).configure_options()\n",
    "        self.add_passthrough_option('--startNode', default='1')\n",
    "\n",
    "    def mapper(self, _, line):\n",
    "        fields = line.strip().split('\\t')\n",
    "        name = fields[0]\n",
    "        neighbors = eval(fields[1])\n",
    "        if name == self.options.startNode:\n",
    "            yield name, [neighbors, 0, [name], 'Q']\n",
    "        else:\n",
    "            yield name, [neighbors, sys.maxint, [], 'U']\n",
    "\n",
    "if __name__ == '__main__':\n",
    "    initiate.run()"
   ]
  },
  {
   "cell_type": "code",
   "execution_count": 284,
   "metadata": {
    "collapsed": false
   },
   "outputs": [
    {
     "name": "stdout",
     "output_type": "stream",
     "text": [
      "Overwriting MRJob_ShortestPath.py\n"
     ]
    }
   ],
   "source": [
    "%%writefile MRJob_ShortestPath.py\n",
    "from mrjob.job import MRJob\n",
    "from mrjob.step import MRStep\n",
    "import sys\n",
    "\n",
    "class shortestPath(MRJob):\n",
    "\n",
    "    \n",
    "    def mapper(self, _, line):\n",
    "\n",
    "        # Split text to get our data\n",
    "        fields = line.strip().split('\\t')\n",
    "\n",
    "       \n",
    "        name = str(eval(fields[0]))\n",
    "        value = eval(fields[1])\n",
    "        neighbors = value[0]\n",
    "        distance = int(value[1])\n",
    "        path = value[2]\n",
    "        status = value[3]\n",
    "        \n",
    "\n",
    "        # If this node is queued, contine explore next level\n",
    "        if status == 'Q':\n",
    "            yield name, [neighbors, distance, path, 'V']\n",
    "            if neighbors:\n",
    "                for node in neighbors:\n",
    "                    temp_path = list(path)\n",
    "                    temp_path.append(node)\n",
    "                    yield node, [None, distance + 1, temp_path, 'Q']\n",
    "        else:\n",
    "            yield name, [neighbors, distance, path, status]\n",
    "\n",
    "\n",
    " \n",
    "    def reducer(self, key, values):\n",
    "        neighbors = {}\n",
    "        distance = sys.maxint\n",
    "        status = None\n",
    "        path = []\n",
    "\n",
    "        for val in values:\n",
    "\n",
    "            # We've hit a visited node. Break out of the loop.\n",
    "            if val[3] == 'V':\n",
    "                neighbors = val[0]\n",
    "                distance = val[1]\n",
    "                path = val[2]\n",
    "                status = val[3]\n",
    "                break\n",
    "\n",
    "            # We've hit an unvisited node. Collect the neighbors and the status\n",
    "            # If status is already Q, do not overwrite\n",
    "            elif val[0]:\n",
    "                neighbors = val[0]\n",
    "                if status != 'Q':\n",
    "                    status = val[3]\n",
    "\n",
    "            # We've hit a queued node. Update status and path\n",
    "            else:\n",
    "                path = val[2]\n",
    "                status = val[3]\n",
    "                \n",
    "\n",
    "            # Update minimum distance if necessary\n",
    "            distance = min(distance, val[1])\n",
    "\n",
    "        yield key, [neighbors, distance, path, status]\n",
    "\n",
    "if __name__ == '__main__':\n",
    "    shortestPath.run()"
   ]
  },
  {
   "cell_type": "code",
   "execution_count": 285,
   "metadata": {
    "collapsed": true
   },
   "outputs": [],
   "source": [
    "from MRJob_Initiate import initiate\n",
    "from MRJob_ShortestPath import shortestPath\n",
    "\n",
    "def findShortestPath(filename, startNode, finalNode):\n",
    "    temp_dir = 'w261_temp/' + os.path.dirname(filename)\n",
    "    !mkdir -p $temp_dir\n",
    "\n",
    "    filenameState = 'w261_temp/' + filename\n",
    "\n",
    "    # Initiate graph adjacency list to track state\n",
    "    mr_job_init = initiate(args=[\n",
    "        filename, '-r', 'local',\n",
    "        '--no-strict-protocols',\n",
    "        '--startNode', startNode\n",
    "    ])\n",
    "\n",
    "    with open(filenameState, 'w') as myfile:\n",
    "        with mr_job_init.make_runner() as runner:\n",
    "            runner.run()\n",
    "\n",
    "            for line in runner.stream_output():\n",
    "                out = mr_job_init.parse_output_line(line)\n",
    "                myfile.write(str(out[0]) + '\\t' + str(out[1]) + '\\n')\n",
    "\n",
    "    # Iterate over the adjacency list with state until all nodes are visited\n",
    "    filenameTemp = filenameState + '.tmp'\n",
    "\n",
    "    mr_job = shortestPath(args=[\n",
    "        filenameState,\n",
    "        '--no-strict-protocols'\n",
    "    ])\n",
    "\n",
    "    for i in range(10):\n",
    "        with open(filenameTemp, 'w') as myfile:\n",
    "            with mr_job.make_runner() as runner:\n",
    "                # Run MRJob\n",
    "                runner.run()\n",
    "\n",
    "                # Write stream_output to file\n",
    "                for line in runner.stream_output():\n",
    "                    out = mr_job.parse_output_line(line)\n",
    "                    myfile.write(str(out[0]) + '\\t' + str(out[1]) + '\\n')\n",
    "\n",
    "                    if out[0] == finalNode and out[1][3] == 'V':\n",
    "                        path = out[1][2]\n",
    "                        return path\n",
    "\n",
    "        !mv {filenameTemp} {filenameState}"
   ]
  },
  {
   "cell_type": "code",
   "execution_count": 286,
   "metadata": {
    "collapsed": false
   },
   "outputs": [
    {
     "name": "stdout",
     "output_type": "stream",
     "text": [
      "Shortest path in undirected_toy.txt\n",
      "['1', '5', '4']\n",
      "\n",
      "Shortest path in directed_toy.txt\n",
      "['1', '2', '4', '5']\n"
     ]
    }
   ],
   "source": [
    "filename = 'undirected_toy.txt'\n",
    "print 'Shortest path in', filename\n",
    "path = findShortestPath(filename, '1', '4')\n",
    "print path\n",
    "\n",
    "filename = 'directed_toy.txt'\n",
    "print '\\nShortest path in', filename\n",
    "path = findShortestPath(filename, '1', '5')\n",
    "print path"
   ]
  },
  {
   "cell_type": "markdown",
   "metadata": {},
   "source": [
    "# HW 7.1: Exploratory data analysis (NLTK synonyms)\n",
    "\n",
    "For the NLTK data set, find:\n",
    "- Number of nodes\n",
    "- Number of links\n",
    "- Average degree"
   ]
  },
  {
   "cell_type": "code",
   "execution_count": 287,
   "metadata": {
    "collapsed": false
   },
   "outputs": [
    {
     "name": "stdout",
     "output_type": "stream",
     "text": [
      "Overwriting MRJob_Network_EDA.py\n"
     ]
    }
   ],
   "source": [
    "%%writefile MRJob_Network_EDA.py\n",
    "from mrjob.job import MRJob\n",
    "from mrjob.protocol import ReprProtocol\n",
    "from mrjob.step import MRStep\n",
    "\n",
    "class Network_EDA(MRJob):\n",
    "\n",
    "    INPUT_PROTOCOL = ReprProtocol\n",
    "    INTERNAL_PROTOCOL = ReprProtocol\n",
    "    OUTPUT_PROTOCOL = ReprProtocol\n",
    "\n",
    "    # Define some users options \n",
    "    def configure_options(self):\n",
    "        super(Network_EDA, self).configure_options()\n",
    "        self.add_passthrough_option('--Network_EDA_Type', default='nodes')\n",
    "\n",
    "    \n",
    "    # Find number of nodes\n",
    "    \n",
    "    def mapper_discoverNodes(self, name, neighbors):\n",
    "        yield str(name), 1\n",
    "        for node in neighbors:\n",
    "            yield str(node), 1\n",
    "\n",
    "    def reducer_discoverNodes(self, key, value):\n",
    "        yield key, 1\n",
    "\n",
    "    def mapper_countNodes(self, key, value):\n",
    "        yield None, 1\n",
    "\n",
    "    def reducer_countNodes(self, key, value):\n",
    "        yield None, sum(value)\n",
    "\n",
    "    \n",
    "    #Find the distribution of out degrees\n",
    "    \n",
    "\n",
    "    def mapper_links(self, name, neighbors):\n",
    "        degree = len(neighbors)\n",
    "        yield degree, 1\n",
    "\n",
    "    def reducer_links(self, degree, occurrences):\n",
    "        yield degree, sum(occurrences)\n",
    "\n",
    "    \n",
    "    # Perform different EDA tasks\n",
    "    \n",
    "\n",
    "    def steps(self):\n",
    "        if self.options.Network_EDA_Type == 'nodes':\n",
    "            return [\n",
    "                MRStep(mapper=self.mapper_discoverNodes,\n",
    "                       combiner=self.reducer_discoverNodes,\n",
    "                       reducer=self.reducer_discoverNodes),\n",
    "                MRStep(mapper=self.mapper_countNodes,\n",
    "                       combiner=self.reducer_countNodes,\n",
    "                       reducer=self.reducer_countNodes)\n",
    "            ]\n",
    "        elif self.options.Network_EDA_Type == 'links':\n",
    "            return [\n",
    "                MRStep(mapper=self.mapper_links,\n",
    "                       combiner=self.reducer_links,\n",
    "                       reducer=self.reducer_links)\n",
    "            ]\n",
    "\n",
    "if __name__ == '__main__':\n",
    "    Network_EDA.run()"
   ]
  },
  {
   "cell_type": "code",
   "execution_count": 288,
   "metadata": {
    "collapsed": true
   },
   "outputs": [],
   "source": [
    "from __future__ import division\n",
    "from MRJob_Network_EDA import Network_EDA\n",
    "import numpy\n",
    "\n",
    "def Network_EDA_Data(runnerType, filename):\n",
    "\n",
    "    # Compute the node count\n",
    "\n",
    "    mr_job = Network_EDA(args=[\n",
    "        filename, '-r', runnerType,\n",
    "        '--no-strict-protocols',\n",
    "        '--Network_EDA_Type', 'nodes'\n",
    "    ])\n",
    "\n",
    "    \n",
    "\n",
    "    with mr_job.make_runner() as runner:\n",
    "        runner.run()\n",
    "\n",
    "        for line in runner.stream_output():\n",
    "            out = mr_job.parse_output_line(line)\n",
    "            nodes = out[1]\n",
    "\n",
    "    # Compute the distribution of the links\n",
    "\n",
    "    mr_job = Network_EDA(args=[\n",
    "        filename, '-r', runnerType,\n",
    "        '--no-strict-protocols',\n",
    "        '--Network_EDA_Type', 'links'\n",
    "    ])\n",
    "\n",
    "    temp_file = os.path.basename(filename) + '.histogram'\n",
    "    temp_dir = 'w261_temp/' + os.path.dirname(filename)\n",
    "\n",
    "    !mkdir -p $temp_dir\n",
    "\n",
    "    with open(temp_dir + '/' + temp_file, 'w') as histogram_file:\n",
    "        with mr_job.make_runner() as runner:\n",
    "            runner.run()\n",
    "\n",
    "            for line in runner.stream_output():\n",
    "                print >> histogram_file, line.strip()\n",
    "\n",
    "    # Print the summary\n",
    "\n",
    "    data_file = numpy.loadtxt(temp_dir + '/' + temp_file)\n",
    "    bins, weights = data_file.astype(int).T\n",
    "    #print bins  \n",
    "    #print weights[::-1]\n",
    "\n",
    "    links = int( 0.5 * numpy.sum([int(degree * weight) for degree, weight in data_file]))\n",
    "\n",
    "    print 'Number of nodes =', '{:,d}'.format(nodes)\n",
    "    print 'Number of links =', '{:,d}'.format(links)\n",
    "    print 'Average degree  =', '{:,.2f}'.format(links / nodes)\n",
    "\n",
    "    temp_dir = 'w261_temp/' + os.path.dirname(filename)\n",
    "    temp_file = os.path.basename(filename) + '.histogram'\n",
    "\n",
    "    # degree histogram\n",
    "\n",
    "    fig = matplotlib.pyplot.figure(figsize=(15, 5))\n",
    "\n",
    "    plot = fig.add_subplot(1, 2, 1)\n",
    "    plot.set_xlabel(\"Degrees\")\n",
    "    plot.set_ylabel(\"Frequency\")\n",
    "    plot.set_title(\"Histogram of Degrees\")\n",
    "    plot.hist(bins, 20, weights = weights, color='r')\n",
    "\n",
    "    # log-log plot \n",
    "\n",
    "    log_bins = numpy.log(bins)\n",
    "    log_weights = numpy.log(weights)\n",
    "    log_plot = fig.add_subplot(1, 2, 2)\n",
    "    log_plot.set_xlabel('log(Degrees)')\n",
    "    log_plot.set_ylabel('log(Frequency)')\n",
    "    log_plot.set_title('Log-Log Plot of Histogram of Degrees')\n",
    "    log_plot.hist(log_bins, 20, weights = log_weights, color='r')"
   ]
  },
  {
   "cell_type": "code",
   "execution_count": 289,
   "metadata": {
    "collapsed": true
   },
   "outputs": [],
   "source": [
    "import functools\n",
    "\n",
    "Network_EDA_DataInline = functools.partial(Network_EDA_Data, 'inline')"
   ]
  },
  {
   "cell_type": "code",
   "execution_count": 290,
   "metadata": {
    "collapsed": false,
    "scrolled": true
   },
   "outputs": [
    {
     "name": "stdout",
     "output_type": "stream",
     "text": [
      "Undirected toy data\n",
      "Number of nodes = 5\n",
      "Number of links = 7\n",
      "Average degree  = 1.40\n"
     ]
    },
    {
     "data": {
      "image/png": "[encoded data removed]",
      "text/plain": [
       "<matplotlib.figure.Figure at 0x7efbbeee3910>"
      ]
     },
     "metadata": {},
     "output_type": "display_data"
    }
   ],
   "source": [
    "print 'Undirected toy data'\n",
    "Network_EDA_DataInline('undirected_toy.txt')"
   ]
  },
  {
   "cell_type": "code",
   "execution_count": 291,
   "metadata": {
    "collapsed": false
   },
   "outputs": [
    {
     "name": "stdout",
     "output_type": "stream",
     "text": [
      "\n",
      "Directed toy data\n",
      "Number of nodes = 6\n",
      "Number of links = 6\n",
      "Average degree  = 1.00\n"
     ]
    },
    {
     "data": {
      "image/png": "[encoded data removed]",
      "text/plain": [
       "<matplotlib.figure.Figure at 0x7efbc1027290>"
      ]
     },
     "metadata": {},
     "output_type": "display_data"
    }
   ],
   "source": [
    "print '\\nDirected toy data'\n",
    "Network_EDA_DataInline('directed_toy.txt')"
   ]
  },
  {
   "cell_type": "code",
   "execution_count": 292,
   "metadata": {
    "collapsed": false
   },
   "outputs": [
    {
     "name": "stdout",
     "output_type": "stream",
     "text": [
      "NLTK data\n",
      "Number of nodes = 8,271\n",
      "Number of links = 30,567\n",
      "Average degree  = 3.70\n"
     ]
    },
    {
     "data": {
      "image/png": "[encoded data removed]",
      "text/plain": [
       "<matplotlib.figure.Figure at 0x7efbc3e59fd0>"
      ]
     },
     "metadata": {},
     "output_type": "display_data"
    }
   ],
   "source": [
    "print 'NLTK data'\n",
    "Network_EDA_DataInline('synNet.txt')"
   ]
  },
  {
   "cell_type": "markdown",
   "metadata": {},
   "source": [
    "## Problem 7.2 - Shortest Path on Synonym Network"
   ]
  },
  {
   "cell_type": "code",
   "execution_count": 293,
   "metadata": {
    "collapsed": true
   },
   "outputs": [],
   "source": [
    "def printPath(indexFile, path):\n",
    "    path_Dict = {}\n",
    "    pathSet = set(path)\n",
    "\n",
    " \n",
    "    with open(indexFile, 'r') as myfile:\n",
    "        for line in myfile:\n",
    "            fields = line.strip().split('\\t')\n",
    "\n",
    "           \n",
    "            if fields[1] in pathSet:\n",
    "                path_Dict[fields[1]] = fields[0]\n",
    "\n",
    "    print '{:<10s}{:<50s}'.format('INDEX', 'NAME')\n",
    "    distance = 0\n",
    "    for node in path:\n",
    "        distance = distance + 1\n",
    "        print '{:<10s}{:<50s}'.format(node, path_Dict[node])\n",
    "    print 'Total Distance is ', '{:,d}'.format(distance - 1)"
   ]
  },
  {
   "cell_type": "code",
   "execution_count": 294,
   "metadata": {
    "collapsed": false
   },
   "outputs": [
    {
     "name": "stdout",
     "output_type": "stream",
     "text": [
      "INDEX     NAME                                              \n",
      "7827      walk                                              \n",
      "4655      passes                                            \n",
      "631       draw                                              \n",
      "536       make                                              \n",
      "Total Distance is  3\n"
     ]
    }
   ],
   "source": [
    "filename = 'synNet.txt'\n",
    "path = findShortestPath(filename, '7827', '536')\n",
    "printPath('indices.txt', path)"
   ]
  },
  {
   "cell_type": "markdown",
   "metadata": {},
   "source": [
    "## Try at Hadoop"
   ]
  },
  {
   "cell_type": "code",
   "execution_count": 295,
   "metadata": {
    "collapsed": true
   },
   "outputs": [],
   "source": [
    "hadoopBaseDir = '/user/shihyu'"
   ]
  },
  {
   "cell_type": "code",
   "execution_count": 306,
   "metadata": {
    "collapsed": true
   },
   "outputs": [],
   "source": [
    "from datetime import datetime\n",
    "from MRJob_Initiate import initiate\n",
    "from MRJob_ShortestPath import shortestPath\n",
    "\n",
    "def findShortestPathHadoop(filename, startNode, endNode):\n",
    "    global hadoopBaseDir\n",
    "\n",
    "    # Set the name of our output folder, and make sure it does not already exist\n",
    "    outputDirName = filename.replace('.txt', '_state2').split('/')[-1]\n",
    "    outputDirState = 'hdfs://%s/%s' % (hadoopBaseDir, outputDirName)\n",
    "\n",
    "    !hdfs dfs -rm -r -f -skipTrash $outputDirState > /dev/null\n",
    "\n",
    "    print datetime.today(), 'Initializing adjacency list'\n",
    "\n",
    "    # Initiate graph adjacency list to track state\n",
    "    mr_job_init = initiate(args=[\n",
    "        filename,\n",
    "        '--strict-protocols',\n",
    "        '--startNode', startNode,\n",
    "        '-r', 'hadoop',\n",
    "        '--output-dir', outputDirState\n",
    "    ])\n",
    "\n",
    "    with mr_job_init.make_runner() as runner:\n",
    "        runner.run()\n",
    "\n",
    "    # Iterate over the adjacency list with state until all nodes are visited\n",
    "    inputDir = outputDirState + '/'\n",
    "    outputDir = outputDirState + 'Temp1'\n",
    "\n",
    "    finished = False\n",
    "    path = None\n",
    "\n",
    "    i = 1\n",
    "\n",
    "    while not finished and path is None:\n",
    "        !hdfs dfs -rm -r -f -skipTrash $outputDir > /dev/null\n",
    "        print datetime.today(), 'Beginning iteration', i\n",
    "\n",
    "        mr_job = shortestPath(args=[\n",
    "            inputDir,\n",
    "            '--strict-protocols',\n",
    "            '-r', 'hadoop',\n",
    "            '--output-dir', outputDir\n",
    "        ])\n",
    "\n",
    "        with mr_job.make_runner() as runner:\n",
    "            # Run MRJob\n",
    "            runner.run()\n",
    "\n",
    "            print datetime.today(), 'Completed iteration', i\n",
    "            finished = True\n",
    "\n",
    "            # Write stream_output to file\n",
    "            for line in runner.stream_output():\n",
    "                out = mr_job.parse_output_line(line)\n",
    "                if out[0] == endNode and out[1][3] != 'U':\n",
    "                    path = out[1][2]\n",
    "                elif out[1][3] == 'Q':\n",
    "                    finished = False\n",
    "\n",
    "        # Update inputDir and outputDir for next iteration\n",
    "        inputDir = outputDirState + 'Temp' + str(i) + '/'\n",
    "        outputDir = outputDirState + 'Temp' + str(i + 1)\n",
    "\n",
    "        i += 1\n",
    "\n",
    "    return path"
   ]
  },
  {
   "cell_type": "code",
   "execution_count": 298,
   "metadata": {
    "collapsed": false
   },
   "outputs": [
    {
     "name": "stdout",
     "output_type": "stream",
     "text": [
      "2016-10-23 07:41:06.321527 Beginning iteration 1\n",
      "2016-10-23 07:41:49.921911 Completed iteration 1\n",
      "2016-10-23 07:42:03.855008 Beginning iteration 2\n",
      "2016-10-23 07:42:44.188641 Completed iteration 2\n",
      "2016-10-23 07:42:57.688388 Beginning iteration 3\n",
      "2016-10-23 07:43:42.168284 Completed iteration 3\n",
      "INDEX     NAME                                              \n",
      "7827      walk                                              \n",
      "1426      pass                                              \n",
      "3651      reached                                           \n",
      "536       make                                              \n",
      "Total Distance is  3\n"
     ]
    }
   ],
   "source": [
    "# Same result as non hadoop implementation\n",
    "filename = 'synNet.txt'\n",
    "startNode = '7827'\n",
    "finalNode = '536'\n",
    "\n",
    "path = findShortestPathHadoop(filename, startNode, finalNode)\n",
    "printPath('indices.txt', path)"
   ]
  },
  {
   "cell_type": "markdown",
   "metadata": {},
   "source": [
    "# HW 7.3: Exploratory data analysis (Wikipedia)"
   ]
  },
  {
   "cell_type": "code",
   "execution_count": 301,
   "metadata": {
    "collapsed": false
   },
   "outputs": [
    {
     "name": "stdout",
     "output_type": "stream",
     "text": [
      "Overwriting mrjob_7_3.py\n"
     ]
    }
   ],
   "source": [
    "%%writefile mrjob_7_3.py\n",
    "\n",
    "from mrjob.job import MRJob\n",
    "from mrjob.step import MRStep\n",
    "import ast\n",
    "\n",
    "class DegreeDistribution_7_3(MRJob):\n",
    "    def steps(self):\n",
    "        job_conf = {'mapred.reduce.tasks': '1'}\n",
    "        return [MRStep(mapper = self.degree_mapper,\n",
    "                       reducer_init = self.degree_reducer_init,\n",
    "                       reducer = self.degree_reducer,\n",
    "                       reducer_final = self.degree_reducer_final,\n",
    "                       jobconf = job_conf\n",
    "                       )]\n",
    "    \n",
    "    # Output the node and its indegree / outdegree\n",
    "    def degree_mapper(self, _, line):\n",
    "        line = line.strip('\\n')        \n",
    "        title, node, indegree, outdegree = line.split('\\t')\n",
    "        yield node, (indegree, outdegree)\n",
    "    \n",
    "    def degree_reducer_init(self):\n",
    "        self.indegree_num = {}\n",
    "        self.outdegree_num = {}\n",
    "    \n",
    "    # Gather up how many nodes, how many for indegree and outdegree \n",
    "    def degree_reducer(self, key, values):\n",
    "        for indegree, outdegree in values:\n",
    "            self.indegree_num.setdefault(indegree, 0)\n",
    "            self.indegree_num[indegree] += 1\n",
    "            self.outdegree_num.setdefault(outdegree, 0)\n",
    "            self.outdegree_num[outdegree] += 1\n",
    "    \n",
    "    # Output the final counts and frequencies of the indegree/outdegree counts.\n",
    "    def degree_reducer_final(self):\n",
    "        for indegree in self.indegree_num:\n",
    "            yield 'in', (indegree, self.indegree_num[indegree])\n",
    "        for outdegree in self.outdegree_num:\n",
    "            yield 'out', (outdegree, self.outdegree_num[outdegree])\n"
   ]
  },
  {
   "cell_type": "code",
   "execution_count": 302,
   "metadata": {
    "collapsed": false
   },
   "outputs": [
    {
     "name": "stdout",
     "output_type": "stream",
     "text": [
      "Number of Nodes in Wikipedia Netork: 15192277\n",
      "Number of IN Links: 185243029\n",
      "Number of OUT Links: 185243029\n",
      "Average Number of IN Links: 12.1932366689\n",
      "Average Number of OUT Links: 12.1932366689\n"
     ]
    },
    {
     "data": {
      "image/png": "[encoded data removed]",
      "text/plain": [
       "<matplotlib.figure.Figure at 0x7efbbf3b6dd0>"
      ]
     },
     "metadata": {},
     "output_type": "display_data"
    },
    {
     "data": {
      "image/png": "[encoded data removed]",
      "text/plain": [
       "<matplotlib.figure.Figure at 0x7efbba3d0090>"
      ]
     },
     "metadata": {},
     "output_type": "display_data"
    },
    {
     "data": {
      "image/png": "[encoded data removed]",
      "text/plain": [
       "<matplotlib.figure.Figure at 0x7efbbef21810>"
      ]
     },
     "metadata": {},
     "output_type": "display_data"
    },
    {
     "data": {
      "image/png": "[encoded data removed]",
      "text/plain": [
       "<matplotlib.figure.Figure at 0x7efbbf710f90>"
      ]
     },
     "metadata": {},
     "output_type": "display_data"
    }
   ],
   "source": [
    "from mrjob_7_3 import DegreeDistribution_7_3\n",
    "import matplotlib.pyplot as plt\n",
    "import math\n",
    "\n",
    "\n",
    "mr_job1 = DegreeDistribution_7_3(args=['indices_wiki.txt', '--no-output', '--no-strict-protocols'])\n",
    "\n",
    "indegree_num = {}\n",
    "outdegree_num = {}\n",
    "with mr_job1.make_runner() as runner:\n",
    "    runner.run()\n",
    "    for line in runner.stream_output():\n",
    "        degree_type, (degree, num) =  mr_job1.parse_output_line(line)\n",
    "        if degree_type == 'in':\n",
    "            indegree_num[int(degree)] = int(num)\n",
    "        elif degree_type == 'out':\n",
    "            outdegree_num[int(degree)] = int(num)\n",
    "            \n",
    "# Summing up to get total nodes, total indegree and outdegree numbers\n",
    "\n",
    "total_nodes = 0\n",
    "total_indegree = 0\n",
    "for indegree in indegree_num:\n",
    "    total_nodes += indegree_num[indegree]\n",
    "    total_indegree += indegree * indegree_num[indegree]\n",
    "total_outdegree = 0\n",
    "for outdegree in outdegree_num:\n",
    "    total_outdegree += outdegree * outdegree_num[outdegree]\n",
    "\n",
    "print 'Number of Nodes in Wikipedia Netork:', total_nodes\n",
    "print 'Number of IN Links:', total_indegree\n",
    "print 'Number of OUT Links:', total_outdegree\n",
    "print 'Average Number of IN Links:', total_indegree * 1.0 / total_nodes\n",
    "print 'Average Number of OUT Links:', total_outdegree * 1.0 / total_nodes\n",
    "    \n",
    "plt.hist(indegree_num.keys(), len(indegree_num), weights = indegree_num.values())\n",
    "plt.title('IN Degree Distribution in Wikipedia Network')\n",
    "plt.xlabel('Node IN Degree')\n",
    "plt.ylabel('Number of Nodes')\n",
    "plt.xlim(0, 100)\n",
    "plt.show()\n",
    "\n",
    "plt.hist(outdegree_num.keys(), len(outdegree_num), weights = outdegree_num.values())\n",
    "plt.title('OUT Degree Distribution in Wikipedia Network')\n",
    "plt.xlabel('Node OUT Degree')\n",
    "plt.ylabel('Number of Nodes')\n",
    "plt.xlim(0, 100)\n",
    "plt.show()\n",
    "\n",
    "degree = [math.log(float(i)) for i in range(1, len(indegree_num) + 1)]\n",
    "nodes_number = [math.log(float(v)) for v in sorted(indegree_num.values(), reverse = True)]\n",
    "plt.plot(degree, nodes_number)\n",
    "plt.title('Log-Log Plot of OUT Degree Number')\n",
    "plt.xlabel('Log of Index')\n",
    "plt.ylabel('Log of IN Degree')\n",
    "plt.show()\n",
    "\n",
    "degree = [math.log(float(i)) for i in range(1, len(outdegree_num) + 1)]\n",
    "nodes_number = [math.log(float(v)) for v in sorted(outdegree_num.values(), reverse = True)]\n",
    "plt.plot(degree, nodes_number)\n",
    "plt.title('Log-Log Plot of OUT Degree Number')\n",
    "plt.xlabel('Log of Index')\n",
    "plt.ylabel('Log of OUT Degree')\n",
    "plt.show()"
   ]
  },
  {
   "cell_type": "markdown",
   "metadata": {},
   "source": [
    "## HW 7.4: Shortest path graph distances (Wikipedia)"
   ]
  },
  {
   "cell_type": "code",
   "execution_count": 307,
   "metadata": {
    "collapsed": false
   },
   "outputs": [
    {
     "name": "stdout",
     "output_type": "stream",
     "text": [
      "2016-10-23 09:04:14.425532 Initializing adjacency list\n",
      "2016-10-23 09:23:15.054724 Beginning iteration 1\n",
      "2016-10-23 09:43:10.332581 Completed iteration 1\n",
      "2016-10-23 09:44:56.855469 Beginning iteration 2\n",
      "2016-10-23 10:04:49.065379 Completed iteration 2\n",
      "INDEX     NAME                                              \n",
      "6176135   Ireland                                           \n",
      "11607791  Seamus Heaney                                     \n",
      "13466359  University of California, Berkeley                \n",
      "Total Distance is  2\n"
     ]
    }
   ],
   "source": [
    "# Find distance between:\n",
    "#  - 'Ireland'\n",
    "#  - 'University of California, Berkeley'\n",
    "filename = 'all-pages-indexed-out.txt'\n",
    "path = findShortestPathHadoop(filename, '6176135', '13466359')\n",
    "printPath('indices_wiki.txt', path)"
   ]
  },
  {
   "cell_type": "markdown",
   "metadata": {},
   "source": [
    "## HW 7.5: Conceptual exercise: Largest single-source network distances"
   ]
  },
  {
   "cell_type": "markdown",
   "metadata": {},
   "source": [
    "## My Trial for Longest Path\n",
    "## There are multiple ways to define a node as being the furthest away from a single source node. We identify all shortest paths to every node from the source node and from there identify the node that maximizes that shortest path (the all-pairs shortest path problem) as our largest single-source network distances."
   ]
  },
  {
   "cell_type": "code",
   "execution_count": 322,
   "metadata": {
    "collapsed": false
   },
   "outputs": [
    {
     "name": "stdout",
     "output_type": "stream",
     "text": [
      "(2, ['5', '4', '3'])\n"
     ]
    }
   ],
   "source": [
    "def findlargest(filename, source, total):\n",
    "    max_distance = 0\n",
    "    max_path = None\n",
    "    for i in range(1, total + 1):\n",
    "        path = findShortestPath(filename, source, str(i))\n",
    "        if (len(path) - 1) > max_distance:\n",
    "            max_distance = len(path) - 1\n",
    "            max_path = path\n",
    "    \n",
    "    return max_distance, max_path\n",
    "    \n",
    "# Toy data model to try\n",
    "filename = 'undirected_toy.txt' \n",
    "source = '5'\n",
    "total = 5\n",
    "\n",
    "print(findlargest(filename, source, total))\n"
   ]
  },
  {
   "cell_type": "markdown",
   "metadata": {},
   "source": [
    "## HW 7.6: Computational exercise: Largest single-source network"
   ]
  },
  {
   "cell_type": "code",
   "execution_count": 332,
   "metadata": {
    "collapsed": false
   },
   "outputs": [
    {
     "name": "stdout",
     "output_type": "stream",
     "text": [
      "1\n",
      "7\n",
      "8\n",
      "9\n",
      "INDEX     NAME                                              \n",
      "1         A                                                 \n",
      "2         As                                                \n",
      "310       ass                                               \n",
      "586       tail                                              \n",
      "5494      tracks                                            \n",
      "3480      running                                           \n",
      "137       function                                          \n",
      "226       uses                                              \n",
      "21        USA                                               \n",
      "18        AMERICA                                           \n",
      "Total Distance is  9\n",
      "None\n"
     ]
    }
   ],
   "source": [
    "def findlargest_index(filename, indexFile, source, total):\n",
    "    max_distance = 0\n",
    "    max_path = None\n",
    "    for i in range(1, total + 1):\n",
    "        #print i\n",
    "        path = findShortestPath(filename, source, str(i))\n",
    "        if path:\n",
    "            if (len(path) - 1) > max_distance:\n",
    "                max_distance = len(path) - 1\n",
    "                print max_distance\n",
    "                max_path = path\n",
    "        else:\n",
    "            continue\n",
    "    \n",
    "    return printPath(indexFile, max_path)\n",
    "    \n",
    "\n",
    "filename = 'synNet.txt'\n",
    "indexFile = 'indices.txt'\n",
    "source = '1'\n",
    "\n",
    "# Try only first 20 nodes to verify code\n",
    "\n",
    "total = 20 \n",
    "\n",
    "print(findlargest_index(filename, indexFile, source, total))"
   ]
  },
  {
   "cell_type": "code",
   "execution_count": 338,
   "metadata": {
    "collapsed": false
   },
   "outputs": [
    {
     "name": "stdout",
     "output_type": "stream",
     "text": [
      "1\n",
      "7\n",
      "8\n",
      "9\n"
     ]
    },
    {
     "ename": "KeyboardInterrupt",
     "evalue": "",
     "output_type": "error",
     "traceback": [
      "\u001b[1;31m---------------------------------------------------------------------------\u001b[0m",
      "\u001b[1;31mKeyboardInterrupt\u001b[0m                         Traceback (most recent call last)",
      "\u001b[1;32m<ipython-input-338-3ddcdb7d0243>\u001b[0m in \u001b[0;36m<module>\u001b[1;34m()\u001b[0m\n\u001b[0;32m     27\u001b[0m \u001b[0mtotal\u001b[0m \u001b[1;33m=\u001b[0m \u001b[1;36m8271\u001b[0m\u001b[1;33m\u001b[0m\u001b[0m\n\u001b[0;32m     28\u001b[0m \u001b[1;33m\u001b[0m\u001b[0m\n\u001b[1;32m---> 29\u001b[1;33m \u001b[1;32mprint\u001b[0m\u001b[1;33m(\u001b[0m\u001b[0mfindlargest_index\u001b[0m\u001b[1;33m(\u001b[0m\u001b[0mfilename\u001b[0m\u001b[1;33m,\u001b[0m \u001b[0mindexFile\u001b[0m\u001b[1;33m,\u001b[0m \u001b[0msource\u001b[0m\u001b[1;33m,\u001b[0m \u001b[0mtotal\u001b[0m\u001b[1;33m)\u001b[0m\u001b[1;33m)\u001b[0m\u001b[1;33m\u001b[0m\u001b[0m\n\u001b[0m\u001b[0;32m     30\u001b[0m \u001b[1;33m\u001b[0m\u001b[0m\n\u001b[0;32m     31\u001b[0m \u001b[0mend\u001b[0m \u001b[1;33m=\u001b[0m \u001b[0mtime\u001b[0m\u001b[1;33m.\u001b[0m\u001b[0mtime\u001b[0m\u001b[1;33m(\u001b[0m\u001b[1;33m)\u001b[0m\u001b[1;33m\u001b[0m\u001b[0m\n",
      "\u001b[1;32m<ipython-input-338-3ddcdb7d0243>\u001b[0m in \u001b[0;36mfindlargest_index\u001b[1;34m(filename, indexFile, source, total)\u001b[0m\n\u001b[0;32m      6\u001b[0m     \u001b[1;32mfor\u001b[0m \u001b[0mi\u001b[0m \u001b[1;32min\u001b[0m \u001b[0mrange\u001b[0m\u001b[1;33m(\u001b[0m\u001b[1;36m1\u001b[0m\u001b[1;33m,\u001b[0m \u001b[0mtotal\u001b[0m \u001b[1;33m+\u001b[0m \u001b[1;36m1\u001b[0m\u001b[1;33m)\u001b[0m\u001b[1;33m:\u001b[0m\u001b[1;33m\u001b[0m\u001b[0m\n\u001b[0;32m      7\u001b[0m         \u001b[1;31m#print i\u001b[0m\u001b[1;33m\u001b[0m\u001b[1;33m\u001b[0m\u001b[0m\n\u001b[1;32m----> 8\u001b[1;33m         \u001b[0mpath\u001b[0m \u001b[1;33m=\u001b[0m \u001b[0mfindShortestPath\u001b[0m\u001b[1;33m(\u001b[0m\u001b[0mfilename\u001b[0m\u001b[1;33m,\u001b[0m \u001b[0msource\u001b[0m\u001b[1;33m,\u001b[0m \u001b[0mstr\u001b[0m\u001b[1;33m(\u001b[0m\u001b[0mi\u001b[0m\u001b[1;33m)\u001b[0m\u001b[1;33m)\u001b[0m\u001b[1;33m\u001b[0m\u001b[0m\n\u001b[0m\u001b[0;32m      9\u001b[0m         \u001b[1;32mif\u001b[0m \u001b[0mpath\u001b[0m\u001b[1;33m:\u001b[0m\u001b[1;33m\u001b[0m\u001b[0m\n\u001b[0;32m     10\u001b[0m             \u001b[1;32mif\u001b[0m \u001b[1;33m(\u001b[0m\u001b[0mlen\u001b[0m\u001b[1;33m(\u001b[0m\u001b[0mpath\u001b[0m\u001b[1;33m)\u001b[0m \u001b[1;33m-\u001b[0m \u001b[1;36m1\u001b[0m\u001b[1;33m)\u001b[0m \u001b[1;33m>\u001b[0m \u001b[0mmax_distance\u001b[0m\u001b[1;33m:\u001b[0m\u001b[1;33m\u001b[0m\u001b[0m\n",
      "\u001b[1;32m<ipython-input-285-bc24f15673d3>\u001b[0m in \u001b[0;36mfindShortestPath\u001b[1;34m(filename, startNode, finalNode)\u001b[0m\n\u001b[0;32m     35\u001b[0m             \u001b[1;32mwith\u001b[0m \u001b[0mmr_job\u001b[0m\u001b[1;33m.\u001b[0m\u001b[0mmake_runner\u001b[0m\u001b[1;33m(\u001b[0m\u001b[1;33m)\u001b[0m \u001b[1;32mas\u001b[0m \u001b[0mrunner\u001b[0m\u001b[1;33m:\u001b[0m\u001b[1;33m\u001b[0m\u001b[0m\n\u001b[0;32m     36\u001b[0m                 \u001b[1;31m# Run MRJob\u001b[0m\u001b[1;33m\u001b[0m\u001b[1;33m\u001b[0m\u001b[0m\n\u001b[1;32m---> 37\u001b[1;33m                 \u001b[0mrunner\u001b[0m\u001b[1;33m.\u001b[0m\u001b[0mrun\u001b[0m\u001b[1;33m(\u001b[0m\u001b[1;33m)\u001b[0m\u001b[1;33m\u001b[0m\u001b[0m\n\u001b[0m\u001b[0;32m     38\u001b[0m \u001b[1;33m\u001b[0m\u001b[0m\n\u001b[0;32m     39\u001b[0m                 \u001b[1;31m# Write stream_output to file\u001b[0m\u001b[1;33m\u001b[0m\u001b[1;33m\u001b[0m\u001b[0m\n",
      "\u001b[1;32m/home/cloudera/anaconda2/lib/python2.7/site-packages/mrjob/runner.pyc\u001b[0m in \u001b[0;36mrun\u001b[1;34m(self)\u001b[0m\n\u001b[0;32m    479\u001b[0m             \u001b[1;32mraise\u001b[0m \u001b[0mAssertionError\u001b[0m\u001b[1;33m(\u001b[0m\u001b[1;34m\"Job already ran!\"\u001b[0m\u001b[1;33m)\u001b[0m\u001b[1;33m\u001b[0m\u001b[0m\n\u001b[0;32m    480\u001b[0m \u001b[1;33m\u001b[0m\u001b[0m\n\u001b[1;32m--> 481\u001b[1;33m         \u001b[0mself\u001b[0m\u001b[1;33m.\u001b[0m\u001b[0m_run\u001b[0m\u001b[1;33m(\u001b[0m\u001b[1;33m)\u001b[0m\u001b[1;33m\u001b[0m\u001b[0m\n\u001b[0m\u001b[0;32m    482\u001b[0m         \u001b[0mself\u001b[0m\u001b[1;33m.\u001b[0m\u001b[0m_ran_job\u001b[0m \u001b[1;33m=\u001b[0m \u001b[0mTrue\u001b[0m\u001b[1;33m\u001b[0m\u001b[0m\n\u001b[0;32m    483\u001b[0m \u001b[1;33m\u001b[0m\u001b[0m\n",
      "\u001b[1;32m/home/cloudera/anaconda2/lib/python2.7/site-packages/mrjob/sim.pyc\u001b[0m in \u001b[0;36m_run\u001b[1;34m(self)\u001b[0m\n\u001b[0;32m    184\u001b[0m             \u001b[0mself\u001b[0m\u001b[1;33m.\u001b[0m\u001b[0m_counters\u001b[0m\u001b[1;33m.\u001b[0m\u001b[0mappend\u001b[0m\u001b[1;33m(\u001b[0m\u001b[1;33m{\u001b[0m\u001b[1;33m}\u001b[0m\u001b[1;33m)\u001b[0m\u001b[1;33m\u001b[0m\u001b[0m\n\u001b[0;32m    185\u001b[0m \u001b[1;33m\u001b[0m\u001b[0m\n\u001b[1;32m--> 186\u001b[1;33m             \u001b[0mself\u001b[0m\u001b[1;33m.\u001b[0m\u001b[0m_invoke_step\u001b[0m\u001b[1;33m(\u001b[0m\u001b[0mstep_num\u001b[0m\u001b[1;33m,\u001b[0m \u001b[1;34m'mapper'\u001b[0m\u001b[1;33m)\u001b[0m\u001b[1;33m\u001b[0m\u001b[0m\n\u001b[0m\u001b[0;32m    187\u001b[0m \u001b[1;33m\u001b[0m\u001b[0m\n\u001b[0;32m    188\u001b[0m             \u001b[1;32mif\u001b[0m \u001b[1;34m'reducer'\u001b[0m \u001b[1;32min\u001b[0m \u001b[0mstep\u001b[0m\u001b[1;33m:\u001b[0m\u001b[1;33m\u001b[0m\u001b[0m\n",
      "\u001b[1;32m/home/cloudera/anaconda2/lib/python2.7/site-packages/mrjob/sim.pyc\u001b[0m in \u001b[0;36m_invoke_step\u001b[1;34m(self, step_num, step_type)\u001b[0m\n\u001b[0;32m    271\u001b[0m \u001b[1;33m\u001b[0m\u001b[0m\n\u001b[0;32m    272\u001b[0m             self._run_step(step_num, step_type, input_path, output_path,\n\u001b[1;32m--> 273\u001b[1;33m                            working_dir, env)\n\u001b[0m\u001b[0;32m    274\u001b[0m \u001b[1;33m\u001b[0m\u001b[0m\n\u001b[0;32m    275\u001b[0m             \u001b[0mself\u001b[0m\u001b[1;33m.\u001b[0m\u001b[0m_prev_outfiles\u001b[0m\u001b[1;33m.\u001b[0m\u001b[0mappend\u001b[0m\u001b[1;33m(\u001b[0m\u001b[0moutput_path\u001b[0m\u001b[1;33m)\u001b[0m\u001b[1;33m\u001b[0m\u001b[0m\n",
      "\u001b[1;32m/home/cloudera/anaconda2/lib/python2.7/site-packages/mrjob/inline.pyc\u001b[0m in \u001b[0;36m_run_step\u001b[1;34m(self, step_num, step_type, input_path, output_path, working_dir, env, child_stdin)\u001b[0m\n\u001b[0;32m    152\u001b[0m                     child_instance.sandbox(stdin=child_stdin,\n\u001b[0;32m    153\u001b[0m                                            stdout=child_stdout)\n\u001b[1;32m--> 154\u001b[1;33m                     \u001b[0mchild_instance\u001b[0m\u001b[1;33m.\u001b[0m\u001b[0mexecute\u001b[0m\u001b[1;33m(\u001b[0m\u001b[1;33m)\u001b[0m\u001b[1;33m\u001b[0m\u001b[0m\n\u001b[0m\u001b[0;32m    155\u001b[0m \u001b[1;33m\u001b[0m\u001b[0m\n\u001b[0;32m    156\u001b[0m             \u001b[1;32mif\u001b[0m \u001b[0mhas_combiner\u001b[0m\u001b[1;33m:\u001b[0m\u001b[1;33m\u001b[0m\u001b[0m\n",
      "\u001b[1;32m/home/cloudera/anaconda2/lib/python2.7/site-packages/mrjob/job.pyc\u001b[0m in \u001b[0;36mexecute\u001b[1;34m(self)\u001b[0m\n\u001b[0;32m    436\u001b[0m \u001b[1;33m\u001b[0m\u001b[0m\n\u001b[0;32m    437\u001b[0m         \u001b[1;32melif\u001b[0m \u001b[0mself\u001b[0m\u001b[1;33m.\u001b[0m\u001b[0moptions\u001b[0m\u001b[1;33m.\u001b[0m\u001b[0mrun_mapper\u001b[0m\u001b[1;33m:\u001b[0m\u001b[1;33m\u001b[0m\u001b[0m\n\u001b[1;32m--> 438\u001b[1;33m             \u001b[0mself\u001b[0m\u001b[1;33m.\u001b[0m\u001b[0mrun_mapper\u001b[0m\u001b[1;33m(\u001b[0m\u001b[0mself\u001b[0m\u001b[1;33m.\u001b[0m\u001b[0moptions\u001b[0m\u001b[1;33m.\u001b[0m\u001b[0mstep_num\u001b[0m\u001b[1;33m)\u001b[0m\u001b[1;33m\u001b[0m\u001b[0m\n\u001b[0m\u001b[0;32m    439\u001b[0m \u001b[1;33m\u001b[0m\u001b[0m\n\u001b[0;32m    440\u001b[0m         \u001b[1;32melif\u001b[0m \u001b[0mself\u001b[0m\u001b[1;33m.\u001b[0m\u001b[0moptions\u001b[0m\u001b[1;33m.\u001b[0m\u001b[0mrun_combiner\u001b[0m\u001b[1;33m:\u001b[0m\u001b[1;33m\u001b[0m\u001b[0m\n",
      "\u001b[1;32m/home/cloudera/anaconda2/lib/python2.7/site-packages/mrjob/job.pyc\u001b[0m in \u001b[0;36mrun_mapper\u001b[1;34m(self, step_num)\u001b[0m\n\u001b[0;32m    502\u001b[0m         \u001b[1;31m# run the mapper on each line\u001b[0m\u001b[1;33m\u001b[0m\u001b[1;33m\u001b[0m\u001b[0m\n\u001b[0;32m    503\u001b[0m         \u001b[1;32mfor\u001b[0m \u001b[0mkey\u001b[0m\u001b[1;33m,\u001b[0m \u001b[0mvalue\u001b[0m \u001b[1;32min\u001b[0m \u001b[0mread_lines\u001b[0m\u001b[1;33m(\u001b[0m\u001b[1;33m)\u001b[0m\u001b[1;33m:\u001b[0m\u001b[1;33m\u001b[0m\u001b[0m\n\u001b[1;32m--> 504\u001b[1;33m             \u001b[1;32mfor\u001b[0m \u001b[0mout_key\u001b[0m\u001b[1;33m,\u001b[0m \u001b[0mout_value\u001b[0m \u001b[1;32min\u001b[0m \u001b[0mmapper\u001b[0m\u001b[1;33m(\u001b[0m\u001b[0mkey\u001b[0m\u001b[1;33m,\u001b[0m \u001b[0mvalue\u001b[0m\u001b[1;33m)\u001b[0m \u001b[1;32mor\u001b[0m \u001b[1;33m(\u001b[0m\u001b[1;33m)\u001b[0m\u001b[1;33m:\u001b[0m\u001b[1;33m\u001b[0m\u001b[0m\n\u001b[0m\u001b[0;32m    505\u001b[0m                 \u001b[0mwrite_line\u001b[0m\u001b[1;33m(\u001b[0m\u001b[0mout_key\u001b[0m\u001b[1;33m,\u001b[0m \u001b[0mout_value\u001b[0m\u001b[1;33m)\u001b[0m\u001b[1;33m\u001b[0m\u001b[0m\n\u001b[0;32m    506\u001b[0m \u001b[1;33m\u001b[0m\u001b[0m\n",
      "\u001b[1;32m/home/cloudera/MRJob_ShortestPath.pyc\u001b[0m in \u001b[0;36mmapper\u001b[1;34m(self, _, line)\u001b[0m\n\u001b[0;32m     13\u001b[0m \u001b[1;33m\u001b[0m\u001b[0m\n\u001b[0;32m     14\u001b[0m         \u001b[0mname\u001b[0m \u001b[1;33m=\u001b[0m \u001b[0mstr\u001b[0m\u001b[1;33m(\u001b[0m\u001b[0meval\u001b[0m\u001b[1;33m(\u001b[0m\u001b[0mfields\u001b[0m\u001b[1;33m[\u001b[0m\u001b[1;36m0\u001b[0m\u001b[1;33m]\u001b[0m\u001b[1;33m)\u001b[0m\u001b[1;33m)\u001b[0m\u001b[1;33m\u001b[0m\u001b[0m\n\u001b[1;32m---> 15\u001b[1;33m         \u001b[0mvalue\u001b[0m \u001b[1;33m=\u001b[0m \u001b[0meval\u001b[0m\u001b[1;33m(\u001b[0m\u001b[0mfields\u001b[0m\u001b[1;33m[\u001b[0m\u001b[1;36m1\u001b[0m\u001b[1;33m]\u001b[0m\u001b[1;33m)\u001b[0m\u001b[1;33m\u001b[0m\u001b[0m\n\u001b[0m\u001b[0;32m     16\u001b[0m         \u001b[0mneighbors\u001b[0m \u001b[1;33m=\u001b[0m \u001b[0mvalue\u001b[0m\u001b[1;33m[\u001b[0m\u001b[1;36m0\u001b[0m\u001b[1;33m]\u001b[0m\u001b[1;33m\u001b[0m\u001b[0m\n\u001b[0;32m     17\u001b[0m         \u001b[0mdistance\u001b[0m \u001b[1;33m=\u001b[0m \u001b[0mint\u001b[0m\u001b[1;33m(\u001b[0m\u001b[0mvalue\u001b[0m\u001b[1;33m[\u001b[0m\u001b[1;36m1\u001b[0m\u001b[1;33m]\u001b[0m\u001b[1;33m)\u001b[0m\u001b[1;33m\u001b[0m\u001b[0m\n",
      "\u001b[1;32m/home/cloudera/MRJob_ShortestPath.pyc\u001b[0m in \u001b[0;36m<module>\u001b[1;34m()\u001b[0m\n",
      "\u001b[1;31mKeyboardInterrupt\u001b[0m: "
     ]
    }
   ],
   "source": [
    "import time\n",
    "\n",
    "def findlargest_index(filename, indexFile, source, total):\n",
    "    max_distance = 0\n",
    "    max_path = None\n",
    "    for i in range(1, total + 1):\n",
    "        #print i\n",
    "        path = findShortestPath(filename, source, str(i))\n",
    "        if path:\n",
    "            if (len(path) - 1) > max_distance:\n",
    "                max_distance = len(path) - 1\n",
    "                print max_distance\n",
    "                max_path = path\n",
    "        else:\n",
    "            continue\n",
    "    \n",
    "    return printPath(indexFile, max_path)\n",
    "    \n",
    "start = time.time()\n",
    "    \n",
    "filename = 'synNet.txt'\n",
    "indexFile = 'indices.txt'\n",
    "source = '1'\n",
    "\n",
    "# Total data of synNet.txt 8271\n",
    "\n",
    "total = 8271\n",
    "\n",
    "print(findlargest_index(filename, indexFile, source, total))\n",
    "\n",
    "end = time.time()\n",
    "countTime = end-start\n",
    "\n",
    "print countTime\n",
    "# If the source index is \"1\", the largest distance found is 9."
   ]
  },
  {
   "cell_type": "code",
   "execution_count": null,
   "metadata": {
    "collapsed": true
   },
   "outputs": [],
   "source": []
  }
 ],
 "metadata": {
  "anaconda-cloud": {},
  "kernelspec": {
   "display_name": "Python [Root]",
   "language": "python",
   "name": "Python [Root]"
  },
  "language_info": {
   "codemirror_mode": {
    "name": "ipython",
    "version": 3
   },
   "file_extension": ".py",
   "mimetype": "text/x-python",
   "name": "python",
   "nbconvert_exporter": "python",
   "pygments_lexer": "ipython3",
   "version": "3.5.2"
  }
 },
 "nbformat": 4,
 "nbformat_minor": 0
}
